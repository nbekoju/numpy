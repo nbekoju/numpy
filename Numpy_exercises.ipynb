{
 "cells": [
  {
   "cell_type": "markdown",
   "id": "00c12bdf",
   "metadata": {},
   "source": [
    "## Numpy Assigment"
   ]
  },
  {
   "cell_type": "markdown",
   "id": "adfbcbb8",
   "metadata": {},
   "source": [
    "**Into how many combination of 3D shape, a numpy array of size 96 can be reshaped?**"
   ]
  },
  {
   "cell_type": "markdown",
   "id": "67dded9d",
   "metadata": {},
   "source": [
    "**Ans:** "
   ]
  },
  {
   "cell_type": "code",
   "execution_count": 1,
   "id": "63cb9438",
   "metadata": {},
   "outputs": [
    {
     "data": {
      "text/html": [
       "<div>\n",
       "<style scoped>\n",
       "    .dataframe tbody tr th:only-of-type {\n",
       "        vertical-align: middle;\n",
       "    }\n",
       "\n",
       "    .dataframe tbody tr th {\n",
       "        vertical-align: top;\n",
       "    }\n",
       "\n",
       "    .dataframe thead th {\n",
       "        text-align: right;\n",
       "    }\n",
       "</style>\n",
       "<table border=\"1\" class=\"dataframe\">\n",
       "  <thead>\n",
       "    <tr style=\"text-align: right;\">\n",
       "      <th></th>\n",
       "      <th>age</th>\n",
       "      <th>sex</th>\n",
       "      <th>cp</th>\n",
       "      <th>trestbps</th>\n",
       "      <th>chol</th>\n",
       "      <th>fbs</th>\n",
       "      <th>restecg</th>\n",
       "      <th>thalach</th>\n",
       "      <th>exang</th>\n",
       "      <th>oldpeak</th>\n",
       "      <th>slope</th>\n",
       "      <th>ca</th>\n",
       "      <th>thal</th>\n",
       "      <th>target</th>\n",
       "    </tr>\n",
       "  </thead>\n",
       "  <tbody>\n",
       "    <tr>\n",
       "      <th>0</th>\n",
       "      <td>63</td>\n",
       "      <td>1</td>\n",
       "      <td>3</td>\n",
       "      <td>145</td>\n",
       "      <td>233</td>\n",
       "      <td>1</td>\n",
       "      <td>0</td>\n",
       "      <td>150</td>\n",
       "      <td>0</td>\n",
       "      <td>2.3</td>\n",
       "      <td>0</td>\n",
       "      <td>0</td>\n",
       "      <td>1</td>\n",
       "      <td>1</td>\n",
       "    </tr>\n",
       "    <tr>\n",
       "      <th>1</th>\n",
       "      <td>37</td>\n",
       "      <td>1</td>\n",
       "      <td>2</td>\n",
       "      <td>130</td>\n",
       "      <td>250</td>\n",
       "      <td>0</td>\n",
       "      <td>1</td>\n",
       "      <td>187</td>\n",
       "      <td>0</td>\n",
       "      <td>3.5</td>\n",
       "      <td>0</td>\n",
       "      <td>0</td>\n",
       "      <td>2</td>\n",
       "      <td>1</td>\n",
       "    </tr>\n",
       "    <tr>\n",
       "      <th>2</th>\n",
       "      <td>41</td>\n",
       "      <td>0</td>\n",
       "      <td>1</td>\n",
       "      <td>130</td>\n",
       "      <td>204</td>\n",
       "      <td>0</td>\n",
       "      <td>0</td>\n",
       "      <td>172</td>\n",
       "      <td>0</td>\n",
       "      <td>1.4</td>\n",
       "      <td>2</td>\n",
       "      <td>0</td>\n",
       "      <td>2</td>\n",
       "      <td>1</td>\n",
       "    </tr>\n",
       "    <tr>\n",
       "      <th>3</th>\n",
       "      <td>56</td>\n",
       "      <td>1</td>\n",
       "      <td>1</td>\n",
       "      <td>120</td>\n",
       "      <td>236</td>\n",
       "      <td>0</td>\n",
       "      <td>1</td>\n",
       "      <td>178</td>\n",
       "      <td>0</td>\n",
       "      <td>0.8</td>\n",
       "      <td>2</td>\n",
       "      <td>0</td>\n",
       "      <td>2</td>\n",
       "      <td>1</td>\n",
       "    </tr>\n",
       "    <tr>\n",
       "      <th>4</th>\n",
       "      <td>57</td>\n",
       "      <td>0</td>\n",
       "      <td>0</td>\n",
       "      <td>120</td>\n",
       "      <td>354</td>\n",
       "      <td>0</td>\n",
       "      <td>1</td>\n",
       "      <td>163</td>\n",
       "      <td>1</td>\n",
       "      <td>0.6</td>\n",
       "      <td>2</td>\n",
       "      <td>0</td>\n",
       "      <td>2</td>\n",
       "      <td>1</td>\n",
       "    </tr>\n",
       "  </tbody>\n",
       "</table>\n",
       "</div>"
      ],
      "text/plain": [
       "   age  sex  cp  trestbps  chol  fbs  restecg  thalach  exang  oldpeak  slope  \\\n",
       "0   63    1   3       145   233    1        0      150      0      2.3      0   \n",
       "1   37    1   2       130   250    0        1      187      0      3.5      0   \n",
       "2   41    0   1       130   204    0        0      172      0      1.4      2   \n",
       "3   56    1   1       120   236    0        1      178      0      0.8      2   \n",
       "4   57    0   0       120   354    0        1      163      1      0.6      2   \n",
       "\n",
       "   ca  thal  target  \n",
       "0   0     1       1  \n",
       "1   0     2       1  \n",
       "2   0     2       1  \n",
       "3   0     2       1  \n",
       "4   0     2       1  "
      ]
     },
     "execution_count": 1,
     "metadata": {},
     "output_type": "execute_result"
    }
   ],
   "source": [
    "# Only for viewing csv data in better form.\n",
    "import pandas as pd\n",
    "df = pd.read_csv('heart-disease.csv')\n",
    "df.head()"
   ]
  },
  {
   "cell_type": "code",
   "execution_count": 2,
   "id": "c4583195",
   "metadata": {},
   "outputs": [],
   "source": [
    "import numpy as np"
   ]
  },
  {
   "cell_type": "markdown",
   "id": "affb887a",
   "metadata": {},
   "source": [
    "#### 1. Load CSV File:\n",
    "Load the CSV file using csv reader into a numpy array. Also convert each value to numerical."
   ]
  },
  {
   "cell_type": "code",
   "execution_count": 3,
   "id": "8be1c499",
   "metadata": {},
   "outputs": [],
   "source": [
    "from csv import reader\n",
    "\n",
    "with open('heart-disease.csv', 'r', encoding='utf-8') as file:\n",
    "    raw_data = np.array(list(reader(file)))"
   ]
  },
  {
   "cell_type": "code",
   "execution_count": 4,
   "id": "3d67c591",
   "metadata": {},
   "outputs": [],
   "source": [
    "raw_data = raw_data[1:]"
   ]
  },
  {
   "cell_type": "code",
   "execution_count": 5,
   "id": "40328939",
   "metadata": {},
   "outputs": [],
   "source": [
    "final_data = raw_data.astype('float32')"
   ]
  },
  {
   "cell_type": "code",
   "execution_count": 6,
   "id": "daa6e07e",
   "metadata": {},
   "outputs": [
    {
     "data": {
      "text/plain": [
       "(array([[63.,  1.,  3., ...,  0.,  1.,  1.],\n",
       "        [37.,  1.,  2., ...,  0.,  2.,  1.],\n",
       "        [41.,  0.,  1., ...,  0.,  2.,  1.],\n",
       "        ...,\n",
       "        [68.,  1.,  0., ...,  2.,  3.,  0.],\n",
       "        [57.,  1.,  0., ...,  1.,  3.,  0.],\n",
       "        [57.,  0.,  1., ...,  1.,  2.,  0.]], dtype=float32),\n",
       " (303, 14))"
      ]
     },
     "execution_count": 6,
     "metadata": {},
     "output_type": "execute_result"
    }
   ],
   "source": [
    "final_data, final_data.shape"
   ]
  },
  {
   "cell_type": "markdown",
   "id": "8cbf62a6",
   "metadata": {},
   "source": [
    "#### 2. Extract Specific Columns:\n",
    "Extract columns `age`, `chol`, and `thalach` from the CSV file and store them in a numpy array."
   ]
  },
  {
   "cell_type": "code",
   "execution_count": 7,
   "id": "6781bb08",
   "metadata": {},
   "outputs": [],
   "source": [
    "age_chol_thalach = final_data[:, [0, 4, 7]]"
   ]
  },
  {
   "cell_type": "markdown",
   "id": "ab39249f",
   "metadata": {},
   "source": [
    "#### 3. Filtering Data:\n",
    "Filter the rows where `sex` is `male` and `age` is greater than 50."
   ]
  },
  {
   "cell_type": "code",
   "execution_count": 8,
   "id": "a46c785a",
   "metadata": {},
   "outputs": [
    {
     "data": {
      "text/plain": [
       "array([[63.,  1.,  3., ...,  0.,  1.,  1.],\n",
       "       [56.,  1.,  1., ...,  0.,  2.,  1.],\n",
       "       [57.,  1.,  0., ...,  0.,  1.,  1.],\n",
       "       ...,\n",
       "       [59.,  1.,  0., ...,  2.,  1.,  0.],\n",
       "       [68.,  1.,  0., ...,  2.,  3.,  0.],\n",
       "       [57.,  1.,  0., ...,  1.,  3.,  0.]], dtype=float32)"
      ]
     },
     "execution_count": 8,
     "metadata": {},
     "output_type": "execute_result"
    }
   ],
   "source": [
    "male_age_gt_50 = final_data[(final_data[:, 1] == 1) & (final_data[:, 0] > 50)]\n",
    "male_age_gt_50"
   ]
  },
  {
   "cell_type": "markdown",
   "id": "c318d202",
   "metadata": {},
   "source": [
    "#### 4. Compute Statistics:\n",
    "Compute the mean and standard deviation of the `trestbps` column."
   ]
  },
  {
   "cell_type": "code",
   "execution_count": 9,
   "id": "379cf1fc",
   "metadata": {},
   "outputs": [
    {
     "data": {
      "text/plain": [
       "(131.62376, 17.509178)"
      ]
     },
     "execution_count": 9,
     "metadata": {},
     "output_type": "execute_result"
    }
   ],
   "source": [
    "mean = np.mean(final_data[:, 3])\n",
    "std_deviation = np.std(final_data[:, 3])\n",
    "mean, std_deviation"
   ]
  },
  {
   "cell_type": "markdown",
   "id": "ba0f9091",
   "metadata": {},
   "source": [
    "#### 5. Sorting Data:\n",
    "Sort the data based on the `thalach` column in descending order."
   ]
  },
  {
   "cell_type": "code",
   "execution_count": 10,
   "id": "c8746da3",
   "metadata": {},
   "outputs": [
    {
     "data": {
      "text/plain": [
       "array([[29.,  1.,  1., ...,  0.,  2.,  1.],\n",
       "       [54.,  1.,  1., ...,  1.,  3.,  0.],\n",
       "       [42.,  1.,  2., ...,  0.,  3.,  1.],\n",
       "       ...,\n",
       "       [59.,  1.,  0., ...,  2.,  1.,  0.],\n",
       "       [57.,  1.,  0., ...,  1.,  3.,  0.],\n",
       "       [67.,  1.,  0., ...,  0.,  2.,  0.]], dtype=float32)"
      ]
     },
     "execution_count": 10,
     "metadata": {},
     "output_type": "execute_result"
    }
   ],
   "source": [
    "sorted_indices = np.argsort(final_data[:, 7])[::-1]\n",
    "sorted_data_on_thalach = final_data[sorted_indices]\n",
    "sorted_data_on_thalach"
   ]
  },
  {
   "cell_type": "markdown",
   "id": "ae4e2426",
   "metadata": {},
   "source": [
    "#### 6. Writing to CSV:\n",
    "Write the filtered data from **Question 3** to a new CSV file named `\"filtered_data.csv\"`."
   ]
  },
  {
   "cell_type": "code",
   "execution_count": 11,
   "id": "a4da1fb0",
   "metadata": {},
   "outputs": [],
   "source": [
    "from csv import writer\n",
    "\n",
    "with open(\"filtered_data.csv\", \"w\", newline=\"\") as file:\n",
    "    csv_writer = writer(file)\n",
    "    csv_writer.writerows(male_age_gt_50)"
   ]
  },
  {
   "cell_type": "markdown",
   "id": "91d389fb",
   "metadata": {},
   "source": [
    "#### 7. Conditional Counting:\n",
    "Count the number of male and female from `sex` column."
   ]
  },
  {
   "cell_type": "code",
   "execution_count": 16,
   "id": "21a185ef",
   "metadata": {},
   "outputs": [
    {
     "data": {
      "text/plain": [
       "(207.0, 96.0)"
      ]
     },
     "execution_count": 16,
     "metadata": {},
     "output_type": "execute_result"
    }
   ],
   "source": [
    "final_data[:, 1].sum(), len(final_data[:, 1]) - final_data[:, 1].sum()"
   ]
  },
  {
   "cell_type": "markdown",
   "id": "e3d0b138",
   "metadata": {},
   "source": [
    "#### 8. Conditional Filtering:\n",
    "Filter the rows where `thal` (thalassemia) is 2 or 3."
   ]
  },
  {
   "cell_type": "code",
   "execution_count": 23,
   "id": "3219eb23",
   "metadata": {},
   "outputs": [
    {
     "data": {
      "text/plain": [
       "array([[37.,  1.,  2., ...,  0.,  2.,  1.],\n",
       "       [41.,  0.,  1., ...,  0.,  2.,  1.],\n",
       "       [56.,  1.,  1., ...,  0.,  2.,  1.],\n",
       "       ...,\n",
       "       [68.,  1.,  0., ...,  2.,  3.,  0.],\n",
       "       [57.,  1.,  0., ...,  1.,  3.,  0.],\n",
       "       [57.,  0.,  1., ...,  1.,  2.,  0.]], dtype=float32)"
      ]
     },
     "execution_count": 23,
     "metadata": {},
     "output_type": "execute_result"
    }
   ],
   "source": [
    "final_data[(final_data[:, 12] == 2) | (final_data[:, 12] == 3)]"
   ]
  },
  {
   "cell_type": "markdown",
   "id": "2f69c353",
   "metadata": {},
   "source": [
    "### Broadcasting:\n",
    "Given two arrays A and B of shapes (3, 2) and (1, 2) respectively, perform element-wise addition using broadcasting."
   ]
  },
  {
   "cell_type": "code",
   "execution_count": 27,
   "id": "47d925ce",
   "metadata": {},
   "outputs": [
    {
     "name": "stdout",
     "output_type": "stream",
     "text": [
      "[[27 90]\n",
      " [ 1 46]\n",
      " [ 2 48]]\n",
      "\n",
      "[[74 62]]\n"
     ]
    },
    {
     "data": {
      "text/plain": [
       "array([[101, 152],\n",
       "       [ 75, 108],\n",
       "       [ 76, 110]])"
      ]
     },
     "execution_count": 27,
     "metadata": {},
     "output_type": "execute_result"
    }
   ],
   "source": [
    "a = np.random.randint(1, 100, size = (3, 2))\n",
    "b = np.random.randint(1, 100, size = (1, 2))\n",
    "print(a)\n",
    "print()\n",
    "print(b)\n",
    "\n",
    "a + b"
   ]
  },
  {
   "cell_type": "markdown",
   "id": "a1ca5e04",
   "metadata": {},
   "source": [
    "### Dot Product:\n",
    "Compute the dot product of two matrices A (shape: 3x4) and B (shape: 4x2)."
   ]
  },
  {
   "cell_type": "code",
   "execution_count": 29,
   "id": "2ba25c00",
   "metadata": {},
   "outputs": [
    {
     "data": {
      "text/plain": [
       "(array([[1, 3, 1, 1],\n",
       "        [3, 2, 1, 3],\n",
       "        [2, 3, 3, 4]]),\n",
       " array([[1, 1],\n",
       "        [1, 3],\n",
       "        [4, 3],\n",
       "        [3, 4]]),\n",
       " array([[11, 17],\n",
       "        [18, 24],\n",
       "        [29, 36]]))"
      ]
     },
     "execution_count": 29,
     "metadata": {},
     "output_type": "execute_result"
    }
   ],
   "source": [
    "a = np.random.randint(1, 5, size = (3, 4))\n",
    "b = np.random.randint(1, 5, size = (4, 2))\n",
    "a, b, np.dot(a, b)"
   ]
  },
  {
   "cell_type": "markdown",
   "id": "c6d1f311",
   "metadata": {},
   "source": [
    "### Sorting:\n",
    "Sort the elements of a 1D array arr in descending order."
   ]
  },
  {
   "cell_type": "code",
   "execution_count": 32,
   "id": "44040875",
   "metadata": {},
   "outputs": [
    {
     "name": "stdout",
     "output_type": "stream",
     "text": [
      "[19  1  4  2  5  3 14 11]\n"
     ]
    },
    {
     "data": {
      "text/plain": [
       "array([19, 14, 11,  5,  4,  3,  2,  1])"
      ]
     },
     "execution_count": 32,
     "metadata": {},
     "output_type": "execute_result"
    }
   ],
   "source": [
    "arr = np.random.randint(1, 20, size = 8)\n",
    "print(arr)\n",
    "\n",
    "np.sort(arr)[::-1]"
   ]
  },
  {
   "cell_type": "markdown",
   "id": "dd498f53",
   "metadata": {},
   "source": [
    "### Counting:\n",
    "Count the number of occurrences of a specific value in a 2D array 'arr'."
   ]
  },
  {
   "cell_type": "code",
   "execution_count": 36,
   "id": "79859340",
   "metadata": {},
   "outputs": [
    {
     "name": "stdout",
     "output_type": "stream",
     "text": [
      "[3 4 2 4 4 2 3 4 2 2 3 2 4 3 1 1 4 1 3 1]\n"
     ]
    },
    {
     "data": {
      "text/plain": [
       "(array([1, 2, 3, 4]), array([4, 5, 5, 6]))"
      ]
     },
     "execution_count": 36,
     "metadata": {},
     "output_type": "execute_result"
    }
   ],
   "source": [
    "arr = np.random.randint(1, 5, size = 20)\n",
    "print(arr)\n",
    "\n",
    "np.unique(arr, return_counts = True)"
   ]
  },
  {
   "cell_type": "markdown",
   "id": "1f8447c8",
   "metadata": {},
   "source": [
    "### Reshaping and Resizing:\n",
    "Reshape a 1D array 'arr' of size 20 into a 2D array of shape (4, 5). Also resize it. Store them into variable and change one value in each case. Check original array and see the difference."
   ]
  },
  {
   "cell_type": "code",
   "execution_count": 37,
   "id": "eb396a32",
   "metadata": {},
   "outputs": [
    {
     "name": "stdout",
     "output_type": "stream",
     "text": [
      "[5 0 1 6 7 3 0 8 4 8 3 1 3 2 2 1 4 5 7 3]\n",
      "\n",
      "[[5 0 1 6 7]\n",
      " [3 0 8 4 8]\n",
      " [3 1 3 2 2]\n",
      " [1 4 5 7 3]]\n",
      "\n",
      "[[5 0 1 6 7]\n",
      " [3 0 8 4 8]\n",
      " [3 1 3 2 2]\n",
      " [1 4 5 7 3]]\n",
      "\n",
      "[5 0 1 6 7 3 0 8 4 8 3 1 3 2 2 1 4 5 7 3]\n",
      "\n",
      "[96  0  1  6  7  3  0  8  4  8  3  1  3  2  2  1  4  5  7  3]\n"
     ]
    }
   ],
   "source": [
    "arr = np.random.randint(0, 9, 20)\n",
    "print(arr, end='\\n\\n')\n",
    "\n",
    "reshaped_arr = arr.reshape(4, 5)\n",
    "print(reshaped_arr, end='\\n\\n')\n",
    "\n",
    "resized_arr = np.resize(arr, (4, 5))\n",
    "print(resized_arr, end='\\n\\n')\n",
    "\n",
    "resized_arr[0, 0] = 100\n",
    "print(arr, end='\\n\\n')\n",
    "\n",
    "reshaped_arr[0, 0] = 96\n",
    "print(arr)"
   ]
  },
  {
   "cell_type": "markdown",
   "id": "6d7b9a6a",
   "metadata": {},
   "source": [
    "### Flatten and Ravel:\n",
    "Flatten a 2D array 'arr; into a 1D array. Also Ravel it. Also store them into variable and change one value in each case. Check original array and see the difference."
   ]
  },
  {
   "cell_type": "code",
   "execution_count": 41,
   "id": "dfcead73",
   "metadata": {},
   "outputs": [
    {
     "name": "stdout",
     "output_type": "stream",
     "text": [
      "[[ 3  1  5]\n",
      " [ 6  2 10]] \n",
      "\n",
      "[ 3  1  5  6  2 10] \n",
      "\n",
      "[[ 3  1  5]\n",
      " [ 6  2 10]] \n",
      "\n",
      "[ 3  1  5  6  2 10] \n",
      "\n",
      "[[100   1   5]\n",
      " [  6   2  10]] \n",
      "\n"
     ]
    }
   ],
   "source": [
    "arr = np.random.randint(1, 20, size = (2, 3))\n",
    "print(arr, \"\\n\")\n",
    "\n",
    "flattened_arr = arr.flatten()\n",
    "print(flattened_arr, \"\\n\")\n",
    "flattened_arr[0] = 95\n",
    "print(arr, \"\\n\")\n",
    "\n",
    "raveled_arr = arr.ravel()\n",
    "print(raveled_arr, \"\\n\")\n",
    "raveled_arr[0] = 100\n",
    "print(arr, \"\\n\")"
   ]
  },
  {
   "cell_type": "markdown",
   "id": "3870ef5f",
   "metadata": {},
   "source": [
    "### View and Copy:\n",
    "Create a view of a 2D array 'arr' and modify one of its elements. Check if the original array is modified."
   ]
  },
  {
   "cell_type": "code",
   "execution_count": 42,
   "id": "aa1b9f63",
   "metadata": {},
   "outputs": [
    {
     "name": "stdout",
     "output_type": "stream",
     "text": [
      "[[100 100 100 100]\n",
      " [ 17   5  19   5]\n",
      " [ 10  15  10   7]]\n"
     ]
    }
   ],
   "source": [
    "arr = np.random.randint(1, 20, size = (3, 4))\n",
    "view_arr = arr.view()\n",
    "view_arr[0] = 100\n",
    "print(arr)"
   ]
  },
  {
   "cell_type": "markdown",
   "id": "3d2cd9b6",
   "metadata": {},
   "source": [
    "### Indexing and Slicing:\n",
    "Extract the first 3 rows and last 2 columns of a 2D array 'arr'."
   ]
  },
  {
   "cell_type": "code",
   "execution_count": 43,
   "id": "850c496c",
   "metadata": {},
   "outputs": [
    {
     "name": "stdout",
     "output_type": "stream",
     "text": [
      "[[15  7 13 18 10]\n",
      " [18  2  8  4  4]\n",
      " [12 15 13 13 17]\n",
      " [10 16 10 19 18]\n",
      " [ 5 19  4 16 15]] \n",
      "\n",
      "[[18 10]\n",
      " [ 4  4]\n",
      " [13 17]]\n"
     ]
    }
   ],
   "source": [
    "arr = np.random.randint(1, 20, size = (5, 5))\n",
    "print(arr, \"\\n\")\n",
    "\n",
    "print(arr[:3, -2:])"
   ]
  },
  {
   "cell_type": "markdown",
   "id": "ae0b4366",
   "metadata": {},
   "source": [
    "### Element-wise Operations:\n",
    "Compute the square root of each element in a 2D array 'arr'."
   ]
  },
  {
   "cell_type": "code",
   "execution_count": 46,
   "id": "ceddf4f1",
   "metadata": {},
   "outputs": [
    {
     "name": "stdout",
     "output_type": "stream",
     "text": [
      "[[12 15]\n",
      " [12 18]\n",
      " [ 4 15]]\n"
     ]
    },
    {
     "data": {
      "text/plain": [
       "array([[3.46410162, 3.87298335],\n",
       "       [3.46410162, 4.24264069],\n",
       "       [2.        , 3.87298335]])"
      ]
     },
     "execution_count": 46,
     "metadata": {},
     "output_type": "execute_result"
    }
   ],
   "source": [
    "arr = np.random.randint(1, 20, size = (3, 2))\n",
    "print(arr)\n",
    "np.sqrt(arr)"
   ]
  },
  {
   "cell_type": "markdown",
   "id": "12e92cbe",
   "metadata": {},
   "source": [
    "### Statistical Operations:\n",
    "Compute the mean, median, and standard deviation of a 2D array 'arr'."
   ]
  },
  {
   "cell_type": "code",
   "execution_count": 52,
   "id": "38917ccc",
   "metadata": {},
   "outputs": [
    {
     "name": "stdout",
     "output_type": "stream",
     "text": [
      "[[2 1]\n",
      " [2 1]\n",
      " [3 1]]\n",
      "[1.5 1.5 2. ]\n",
      "[1.5 1.5 2. ]\n",
      "[0.5 0.5 1. ]\n"
     ]
    }
   ],
   "source": [
    "arr = np.random.randint(1, 5, size = (3, 2))\n",
    "print(arr)\n",
    "print(arr.mean(axis=1))\n",
    "print(np.median(arr, axis=1))\n",
    "print(arr.std(axis=1))"
   ]
  },
  {
   "cell_type": "markdown",
   "id": "c0ddc1cd",
   "metadata": {},
   "source": [
    "### Boolean Indexing:\n",
    "Select elements from a 1D array 'arr' that are greater than a certain threshold."
   ]
  },
  {
   "cell_type": "code",
   "execution_count": 53,
   "id": "630e34f2",
   "metadata": {},
   "outputs": [
    {
     "name": "stdout",
     "output_type": "stream",
     "text": [
      "[[ 7 17 11  6 12 18  9 19  7 19]]\n"
     ]
    },
    {
     "data": {
      "text/plain": [
       "array([17, 11, 12, 18, 19, 19])"
      ]
     },
     "execution_count": 53,
     "metadata": {},
     "output_type": "execute_result"
    }
   ],
   "source": [
    "arr = np.random.randint(1, 20, size = (1, 10))\n",
    "print(arr)\n",
    "\n",
    "arr[arr > 10]"
   ]
  },
  {
   "cell_type": "markdown",
   "id": "6e973219",
   "metadata": {},
   "source": [
    "### Concatenation:\n",
    "Concatenate two arrays A and B horizontally."
   ]
  },
  {
   "cell_type": "code",
   "execution_count": 55,
   "id": "33d6795a",
   "metadata": {},
   "outputs": [
    {
     "name": "stdout",
     "output_type": "stream",
     "text": [
      "[ 8 16  7  3 12] \n",
      "\n",
      "[12 15 11 14 12 18  3] \n",
      "\n"
     ]
    },
    {
     "data": {
      "text/plain": [
       "array([ 8, 16,  7,  3, 12, 12, 15, 11, 14, 12, 18,  3])"
      ]
     },
     "execution_count": 55,
     "metadata": {},
     "output_type": "execute_result"
    }
   ],
   "source": [
    "a = np.random.randint(1, 20, size = 5)\n",
    "b = np.random.randint(1, 20, size = 7)\n",
    "\n",
    "print(a, \"\\n\")\n",
    "print(b, \"\\n\")\n",
    "np.hstack((a, b))"
   ]
  },
  {
   "cell_type": "markdown",
   "id": "08771b75",
   "metadata": {},
   "source": [
    "### Unique Elements:\n",
    "Find the unique elements in a 1D array 'arr'."
   ]
  },
  {
   "cell_type": "code",
   "execution_count": 57,
   "id": "95157fa5",
   "metadata": {},
   "outputs": [
    {
     "name": "stdout",
     "output_type": "stream",
     "text": [
      "[6 6 5 4 6 5 2 6 3 4]\n"
     ]
    },
    {
     "data": {
      "text/plain": [
       "array([2, 3, 4, 5, 6])"
      ]
     },
     "execution_count": 57,
     "metadata": {},
     "output_type": "execute_result"
    }
   ],
   "source": [
    "arr = np.random.randint(1, 7, size = 10)\n",
    "print(arr)\n",
    "np.unique(arr)"
   ]
  },
  {
   "cell_type": "markdown",
   "id": "f13e4c6c",
   "metadata": {},
   "source": [
    "### Transpose:\n",
    "Transpose a 2D array 'arr'."
   ]
  },
  {
   "cell_type": "code",
   "execution_count": 58,
   "id": "79c714b7",
   "metadata": {},
   "outputs": [
    {
     "data": {
      "text/plain": [
       "array([[ 8, 13, 15],\n",
       "       [ 7, 16,  8],\n",
       "       [ 8,  9,  8],\n",
       "       [ 7, 16, 16]])"
      ]
     },
     "execution_count": 58,
     "metadata": {},
     "output_type": "execute_result"
    }
   ],
   "source": [
    "arr = np.random.randint(1, 20, size = (3, 4))\n",
    "arr.T"
   ]
  },
  {
   "cell_type": "markdown",
   "id": "8f7faef6",
   "metadata": {},
   "source": [
    "### Matrix Inversion:\n",
    "Compute the inverse of a square matrix A."
   ]
  },
  {
   "cell_type": "code",
   "execution_count": 61,
   "id": "02ab8add",
   "metadata": {},
   "outputs": [
    {
     "data": {
      "text/plain": [
       "array([[ 0.01058201,  0.05291005, -0.17460317],\n",
       "       [-0.16931217,  0.15343915, -0.20634921],\n",
       "       [ 0.1675485 , -0.1622575 ,  0.4021164 ]])"
      ]
     },
     "execution_count": 61,
     "metadata": {},
     "output_type": "execute_result"
    }
   ],
   "source": [
    "arr = np.random.randint(1, 20, size = (3,3))\n",
    "np.linalg.inv(arr)"
   ]
  }
 ],
 "metadata": {
  "kernelspec": {
   "display_name": "Python 3 (ipykernel)",
   "language": "python",
   "name": "python3"
  },
  "language_info": {
   "codemirror_mode": {
    "name": "ipython",
    "version": 3
   },
   "file_extension": ".py",
   "mimetype": "text/x-python",
   "name": "python",
   "nbconvert_exporter": "python",
   "pygments_lexer": "ipython3",
   "version": "3.10.10"
  }
 },
 "nbformat": 4,
 "nbformat_minor": 5
}
